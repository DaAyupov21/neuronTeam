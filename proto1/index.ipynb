{
 "metadata": {
  "language_info": {
   "codemirror_mode": {
    "name": "ipython",
    "version": 3
   },
   "file_extension": ".py",
   "mimetype": "text/x-python",
   "name": "python",
   "nbconvert_exporter": "python",
   "pygments_lexer": "ipython3",
   "version": "3.8.2-final"
  },
  "orig_nbformat": 2,
  "kernelspec": {
   "name": "python3",
   "language": "python",
   "display_name": "Python 3"
  }
 },
 "nbformat": 4,
 "nbformat_minor": 2,
 "cells": [
  {
   "cell_type": "code",
   "execution_count": 1,
   "metadata": {},
   "outputs": [],
   "source": [
    "from IPython.display import Audio\n",
    "import os\n",
    "from os import listdir\n",
    "from os.path import isfile, join"
   ]
  },
  {
   "source": [
    "В корневом каталоге надо будет создать папку data, где будут хранитьтся все тестовые данные и выделенные вокалы"
   ],
   "cell_type": "markdown",
   "metadata": {}
  },
  {
   "source": [
    "# Constants"
   ],
   "cell_type": "markdown",
   "metadata": {}
  },
  {
   "cell_type": "code",
   "execution_count": 12,
   "metadata": {},
   "outputs": [],
   "source": [
    "DATA_PATH = \"../data\"\n",
    "DATA_PATH_OUTPUT = DATA_PATH + \"/output\"\n",
    "DATA_PATH_DATASET = DATA_PATH + \"/dataSet\"\n",
    "\n",
    "YOUTUBE_DL_TEMPLATE = '\"{}/{}\"'.format(DATA_PATH_DATASET, \"song%(id)s.%(ext)s\")"
   ]
  },
  {
   "source": [
    "# Separate vocal"
   ],
   "cell_type": "markdown",
   "metadata": {}
  },
  {
   "cell_type": "code",
   "execution_count": 13,
   "metadata": {
    "tags": []
   },
   "outputs": [
    {
     "output_type": "stream",
     "name": "stdout",
     "text": "[youtube:search] query &quot;[https://www.youtube.com/watch?v=CojnI6ikXMg,&quot;: Downloading page 1\n[download] Downloading playlist: [https://www.youtube.com/watch?v=CojnI6ikXMg,\n[youtube:search] playlist [https://www.youtube.com/watch?v=CojnI6ikXMg,: Collected 1 video ids (downloading 1 of them)\n[download] Downloading video 1 of 1\n[youtube] CojnI6ikXMg: Downloading webpage\n[download] Destination: ../data/dataSet/songCojnI6ikXMg.webm\n\u001b[K[download] 100% of 6.02MiB in 00:00\n[ffmpeg] Destination: ../data/dataSet/songCojnI6ikXMg.mp3\nDeleting original file ../data/dataSet/songCojnI6ikXMg.webm (pass -k to keep)\n[download] Finished downloading playlist: [https://www.youtube.com/watch?v=CojnI6ikXMg,\n[youtube] O4Cxrk98ZBc: Downloading webpage\n[download] Destination: ../data/dataSet/songO4Cxrk98ZBc.webm\n\u001b[K[download] 100% of 5.63MiB in 00:00\n[ffmpeg] Destination: ../data/dataSet/songO4Cxrk98ZBc.mp3\nDeleting original file ../data/dataSet/songO4Cxrk98ZBc.webm (pass -k to keep)\n[youtube] SxAq2c5CjeI: Downloading webpage\n[download] Destination: ../data/dataSet/songSxAq2c5CjeI.webm\n\u001b[K[download] 100% of 6.31MiB in 00:00\n[ffmpeg] Destination: ../data/dataSet/songSxAq2c5CjeI.mp3\nDeleting original file ../data/dataSet/songSxAq2c5CjeI.webm (pass -k to keep)\n[youtube] JQYtj8Uwybs: Downloading webpage\n[download] Destination: ../data/dataSet/songJQYtj8Uwybs.webm\n\u001b[K[download] 100% of 6.32MiB in 00:00\n[ffmpeg] Destination: ../data/dataSet/songJQYtj8Uwybs.mp3\nDeleting original file ../data/dataSet/songJQYtj8Uwybs.webm (pass -k to keep)\n"
    }
   ],
   "source": [
    "f = open(\"url_list.txt\", 'r')\n",
    "urls = []\n",
    "\n",
    "u = f.readlines()\n",
    "for url in u:\n",
    "    urls.append(\"{}\".format(url.strip()))\n",
    "\n",
    "!youtube-dl -x --audio-format mp3 ytsearch:$urls -o $YOUTUBE_DL_TEMPLATE"
   ]
  },
  {
   "source": [
    "# Download songs from youtube"
   ],
   "cell_type": "markdown",
   "metadata": {}
  },
  {
   "cell_type": "code",
   "execution_count": 14,
   "metadata": {
    "tags": []
   },
   "outputs": [
    {
     "output_type": "stream",
     "name": "stdout",
     "text": "INFO:spleeter:File ../data/output/songJQYtj8Uwybs/vocals.wav written succesfully\nINFO:spleeter:File ../data/output/songJQYtj8Uwybs/accompaniment.wav written succesfully\nINFO:spleeter:File ../data/output/songCojnI6ikXMg/vocals.wav written succesfully\nINFO:spleeter:File ../data/output/songCojnI6ikXMg/accompaniment.wav written succesfully\nINFO:spleeter:File ../data/output/songSxAq2c5CjeI/vocals.wav written succesfully\nINFO:spleeter:File ../data/output/songSxAq2c5CjeI/accompaniment.wav written succesfully\nINFO:spleeter:File ../data/output/songO4Cxrk98ZBc/vocals.wav written succesfully\nINFO:spleeter:File ../data/output/songO4Cxrk98ZBc/accompaniment.wav written succesfully\n"
    }
   ],
   "source": [
    "filelist = \"\"\n",
    "\n",
    "for root, dirs, files in os.walk(DATA_PATH_DATASET):\n",
    "    for filename in files:\n",
    "        tempStr = '{}/{}'.format(DATA_PATH_DATASET, filename)\n",
    "        if len(filename) == 0:\n",
    "            filelist = tempStr\n",
    "        else:\n",
    "            filelist = \"{} {}\".format(filelist, tempStr)\n",
    "filelist\n",
    "!spleeter separate -i $filelist -o $DATA_PATH_OUTPUT"
   ]
  },
  {
   "cell_type": "code",
   "execution_count": 4,
   "metadata": {},
   "outputs": [],
   "source": []
  }
 ]
}
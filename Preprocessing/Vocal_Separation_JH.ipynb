{
 "cells": [
  {
   "cell_type": "code",
   "execution_count": 1,
   "metadata": {},
   "outputs": [],
   "source": [
    "from __future__ import print_function\n",
    "import numpy as np\n",
    "import pandas as pd\n",
    "import matplotlib.pyplot as plt\n",
    "import librosa\n",
    "import librosa.display"
   ]
  },
  {
   "cell_type": "code",
   "execution_count": 2,
   "metadata": {},
   "outputs": [],
   "source": [
    "y, sr = librosa.load('good_day.mp3')\n",
    "y_2, sr_2 = librosa.load('good_day_inst.mp3') # data load"
   ]
  },
  {
   "cell_type": "code",
   "execution_count": 10,
   "metadata": {},
   "outputs": [],
   "source": [
    "S_full, phase = librosa.magphase(librosa.stft(y)) # 원음 푸리에 변환\n",
    "S_inst, phase_inst = librosa.magphase(librosa.stft(y_2*0.7)) # 배경 푸리에 변환, 0.7곱해준 이유는 간주부분 배경이 더 커서"
   ]
  },
  {
   "cell_type": "code",
   "execution_count": 4,
   "metadata": {},
   "outputs": [],
   "source": [
    "import scipy.io.wavfile"
   ]
  },
  {
   "cell_type": "code",
   "execution_count": 5,
   "metadata": {},
   "outputs": [
    {
     "name": "stdout",
     "output_type": "stream",
     "text": [
      "[[0.00000000e+00 0.00000000e+00 0.00000000e+00 ... 2.99016920e-05\n",
      "  4.18825081e-08 0.00000000e+00]\n",
      " [0.00000000e+00 0.00000000e+00 0.00000000e+00 ... 2.87285620e-05\n",
      "  4.18663859e-08 0.00000000e+00]\n",
      " [0.00000000e+00 0.00000000e+00 0.00000000e+00 ... 2.51196925e-05\n",
      "  4.18180797e-08 0.00000000e+00]\n",
      " ...\n",
      " [0.00000000e+00 0.00000000e+00 0.00000000e+00 ... 3.04063867e-08\n",
      "  4.40687237e-10 0.00000000e+00]\n",
      " [0.00000000e+00 0.00000000e+00 0.00000000e+00 ... 1.44964485e-08\n",
      "  4.17645168e-10 0.00000000e+00]\n",
      " [0.00000000e+00 0.00000000e+00 0.00000000e+00 ... 8.13937096e-09\n",
      "  4.09738160e-10 0.00000000e+00]]\n"
     ]
    }
   ],
   "source": [
    "print(S_full)"
   ]
  },
  {
   "cell_type": "code",
   "execution_count": 15,
   "metadata": {},
   "outputs": [],
   "source": [
    "S_foreground = (S_full - S_inst)*(phase - phase_inst)# 푸리에 변환한 값을 빼고 위상이랑 곱해줌"
   ]
  },
  {
   "cell_type": "code",
   "execution_count": 16,
   "metadata": {},
   "outputs": [],
   "source": [
    "S_fore = librosa.istft(S_foreground) # 다시 역 푸리에 변환(Time Domain으로 변경)"
   ]
  },
  {
   "cell_type": "code",
   "execution_count": 17,
   "metadata": {},
   "outputs": [],
   "source": [
    "scipy.io.wavfile.write('NoMR.wav', sr, S_fore) # mp3파일 쓰기"
   ]
  },
  {
   "cell_type": "code",
   "execution_count": 57,
   "metadata": {},
   "outputs": [],
   "source": [
    "yo, sr = librosa.load('iu.wav',duration = 239)\n",
    "yo_2, sr_2 = librosa.load('inst_iu.wav', duration = 239) #너랑나 는 실패"
   ]
  },
  {
   "cell_type": "code",
   "execution_count": 53,
   "metadata": {},
   "outputs": [],
   "source": [
    "S_full_1, phase_1 = librosa.magphase(librosa.stft(yo))\n",
    "S_inst_1, phase_ins_1 = librosa.magphase(librosa.stft(yo_2))"
   ]
  },
  {
   "cell_type": "code",
   "execution_count": 54,
   "metadata": {},
   "outputs": [],
   "source": [
    "S_foreground_1 = (S_full_1 - S_inst_1) * (phase_1 - phase_ins_1)"
   ]
  },
  {
   "cell_type": "code",
   "execution_count": 55,
   "metadata": {},
   "outputs": [],
   "source": [
    "S_fore_1 = librosa.istft(S_foreground_1)"
   ]
  },
  {
   "cell_type": "code",
   "execution_count": 58,
   "metadata": {},
   "outputs": [],
   "source": [
    "scipy.io.wavfile.write('NoMRIU.wav', sr, S_fore_1)"
   ]
  }
 ],
 "metadata": {
  "kernelspec": {
   "display_name": "Python 3",
   "language": "python",
   "name": "python3"
  },
  "language_info": {
   "codemirror_mode": {
    "name": "ipython",
    "version": 3
   },
   "file_extension": ".py",
   "mimetype": "text/x-python",
   "name": "python",
   "nbconvert_exporter": "python",
   "pygments_lexer": "ipython3",
   "version": "3.7.3"
  }
 },
 "nbformat": 4,
 "nbformat_minor": 2
}

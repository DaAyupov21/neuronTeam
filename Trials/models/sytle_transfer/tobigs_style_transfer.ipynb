{
  "nbformat": 4,
  "nbformat_minor": 0,
  "metadata": {
    "colab": {
      "name": "tobigs_style_transfer.ipynb",
      "provenance": [],
      "collapsed_sections": [],
      "toc_visible": true,
      "include_colab_link": true
    },
    "kernelspec": {
      "name": "python3",
      "display_name": "Python 3"
    },
    "accelerator": "GPU"
  },
  "cells": [
    {
      "cell_type": "markdown",
      "metadata": {
        "id": "view-in-github",
        "colab_type": "text"
      },
      "source": [
        "<a href=\"https://colab.research.google.com/github/sora-12/Tobigs_music_project/blob/master/tobigs_style_transfer.ipynb\" target=\"_parent\"><img src=\"https://colab.research.google.com/assets/colab-badge.svg\" alt=\"Open In Colab\"/></a>"
      ]
    },
    {
      "cell_type": "code",
      "metadata": {
        "id": "RU9KGKI8-mVw",
        "colab_type": "code",
        "outputId": "c06302ab-62f6-46a9-911c-96ce7479a272",
        "colab": {
          "base_uri": "https://localhost:8080/",
          "height": 125
        }
      },
      "source": [
        "from google.colab import drive\n",
        "drive.mount(\"/content/gdrive\",force_remount=True)"
      ],
      "execution_count": 0,
      "outputs": [
        {
          "output_type": "stream",
          "text": [
            "Go to this URL in a browser: https://accounts.google.com/o/oauth2/auth?client_id=947318989803-6bn6qk8qdgf4n4g3pfee6491hc0brc4i.apps.googleusercontent.com&redirect_uri=urn%3Aietf%3Awg%3Aoauth%3A2.0%3Aoob&scope=email%20https%3A%2F%2Fwww.googleapis.com%2Fauth%2Fdocs.test%20https%3A%2F%2Fwww.googleapis.com%2Fauth%2Fdrive%20https%3A%2F%2Fwww.googleapis.com%2Fauth%2Fdrive.photos.readonly%20https%3A%2F%2Fwww.googleapis.com%2Fauth%2Fpeopleapi.readonly&response_type=code\n",
            "\n",
            "Enter your authorization code:\n",
            "··········\n",
            "Mounted at /content/gdrive\n"
          ],
          "name": "stdout"
        }
      ]
    },
    {
      "cell_type": "markdown",
      "metadata": {
        "id": "3I8-5R6TDDh7",
        "colab_type": "text"
      },
      "source": [
        "# coco 2017 validation set"
      ]
    },
    {
      "cell_type": "code",
      "metadata": {
        "id": "FI7s_XQaAcxk",
        "colab_type": "code",
        "outputId": "9e926dd8-a823-47c2-e8dc-b5099556fa8f",
        "colab": {
          "base_uri": "https://localhost:8080/",
          "height": 34
        }
      },
      "source": [
        "cd /root"
      ],
      "execution_count": 0,
      "outputs": [
        {
          "output_type": "stream",
          "text": [
            "/root\n"
          ],
          "name": "stdout"
        }
      ]
    },
    {
      "cell_type": "code",
      "metadata": {
        "id": "3Ar5Np_HDGrP",
        "colab_type": "code",
        "outputId": "565ed528-f32e-40eb-bc1b-6240a56fb2d0",
        "colab": {
          "base_uri": "https://localhost:8080/",
          "height": 34
        }
      },
      "source": [
        "ll"
      ],
      "execution_count": 0,
      "outputs": [
        {
          "output_type": "stream",
          "text": [
            "total 0\n"
          ],
          "name": "stdout"
        }
      ]
    },
    {
      "cell_type": "code",
      "metadata": {
        "id": "goCpDDshLJ1g",
        "colab_type": "code",
        "colab": {}
      },
      "source": [
        "mkdir coco"
      ],
      "execution_count": 0,
      "outputs": []
    },
    {
      "cell_type": "code",
      "metadata": {
        "id": "bRoYsMwqDIFU",
        "colab_type": "code",
        "outputId": "04b67213-9625-4875-8f86-ec56065243e2",
        "colab": {
          "base_uri": "https://localhost:8080/",
          "height": 210
        }
      },
      "source": [
        "# 5000개\n",
        "!wget http://images.cocodataset.org/zips/val2017.zip"
      ],
      "execution_count": 0,
      "outputs": [
        {
          "output_type": "stream",
          "text": [
            "--2019-07-18 11:01:49--  http://images.cocodataset.org/zips/val2017.zip\n",
            "Resolving images.cocodataset.org (images.cocodataset.org)... 52.216.98.3\n",
            "Connecting to images.cocodataset.org (images.cocodataset.org)|52.216.98.3|:80... connected.\n",
            "HTTP request sent, awaiting response... 200 OK\n",
            "Length: 815585330 (778M) [application/zip]\n",
            "Saving to: ‘val2017.zip’\n",
            "\n",
            "val2017.zip         100%[===================>] 777.80M  13.7MB/s    in 59s     \n",
            "\n",
            "2019-07-18 11:02:48 (13.2 MB/s) - ‘val2017.zip’ saved [815585330/815585330]\n",
            "\n"
          ],
          "name": "stdout"
        }
      ]
    },
    {
      "cell_type": "code",
      "metadata": {
        "id": "al7TkVPaDOhn",
        "colab_type": "code",
        "colab": {}
      },
      "source": [
        "!unzip val2017.zip -d coco|"
      ],
      "execution_count": 0,
      "outputs": []
    },
    {
      "cell_type": "markdown",
      "metadata": {
        "id": "6Or_zTVqIioi",
        "colab_type": "text"
      },
      "source": [
        "# chad's git clone\n",
        "\n",
        "- https://github.com/Chad4545/styletransfer.git"
      ]
    },
    {
      "cell_type": "code",
      "metadata": {
        "id": "8FH71TmYIphX",
        "colab_type": "code",
        "colab": {}
      },
      "source": [
        "cd /root"
      ],
      "execution_count": 0,
      "outputs": []
    },
    {
      "cell_type": "code",
      "metadata": {
        "id": "mcjS-LRKInXG",
        "colab_type": "code",
        "colab": {}
      },
      "source": [
        "!git clone https://github.com/Chad4545/styletransfer.git"
      ],
      "execution_count": 0,
      "outputs": []
    },
    {
      "cell_type": "markdown",
      "metadata": {
        "id": "kN8Za_PEDVs_",
        "colab_type": "text"
      },
      "source": [
        "# style_images"
      ]
    },
    {
      "cell_type": "code",
      "metadata": {
        "id": "YfTr_JHxEtGm",
        "colab_type": "code",
        "colab": {}
      },
      "source": [
        "from PIL import Image\n",
        "import matplotlib.pyplot as plt"
      ],
      "execution_count": 0,
      "outputs": []
    },
    {
      "cell_type": "code",
      "metadata": {
        "id": "_EoJQ2y9DSIs",
        "colab_type": "code",
        "colab": {}
      },
      "source": [
        "style_path ='/root/styletransfer/data/style_img/'\n",
        "candy = Image.open(style_path+\"candy.jpg\",'r')\n",
        "mosaic = Image.open(style_path+\"mosaic.jpg\",'r')\n",
        "rain = Image.open(style_path+\"rain-princess.jpg\",'r')\n",
        "sunset = Image.open(style_path+\"sunset.jpg\",'r')\n",
        "udnie = Image.open(style_path+\"udnie.jpg\",'r')\n",
        "vikendi = Image.open(style_path+\"vikendi.jpg\",'r')\n",
        "sky = Image.open(style_path+\"sky.jpg\",'r')\n",
        "\n",
        "cloudy = Image.open(style_path+\"cloudy.JPG\",'r')\n",
        "desert = Image.open(style_path+\"desert.JPG\",'r')\n",
        "neonsign = Image.open(style_path+\"neonsign.JPG\",'r')\n",
        "sunlight = Image.open(style_path+\"sunlight.JPG\",'r')\n",
        "sunset2 = Image.open(style_path+\"sunset2.JPG\",'r')\n"
      ],
      "execution_count": 0,
      "outputs": []
    },
    {
      "cell_type": "code",
      "metadata": {
        "id": "MRdpAEKKKVMM",
        "colab_type": "code",
        "colab": {}
      },
      "source": [
        "f, axarr = plt.subplots(2,3,figsize=(10,10))\n",
        "axarr[0][0].imshow(cloudy)\n",
        "axarr[0][1].imshow(desert)\n",
        "axarr[0][2].imshow(neonsign)\n",
        "axarr[1][0].imshow(sunlight)\n",
        "axarr[1][1].imshow(sunset2)\n",
        "axarr[1][2].imshow(sky)\n",
        "plt.show()"
      ],
      "execution_count": 0,
      "outputs": []
    },
    {
      "cell_type": "code",
      "metadata": {
        "id": "l5mw-zxXFouD",
        "colab_type": "code",
        "colab": {}
      },
      "source": [
        "cd /root/styletransfer"
      ],
      "execution_count": 0,
      "outputs": []
    },
    {
      "cell_type": "markdown",
      "metadata": {
        "id": "wflGGAMuI60E",
        "colab_type": "text"
      },
      "source": [
        "# import"
      ]
    },
    {
      "cell_type": "code",
      "metadata": {
        "id": "WmliEJX6I5Lq",
        "colab_type": "code",
        "colab": {}
      },
      "source": [
        "import argparse\n",
        "import os\n",
        "import sys\n",
        "import time\n",
        "\n",
        "import numpy as np\n",
        "import torch\n",
        "from torch.optim import Adam\n",
        "from torch.utils.data import DataLoader\n",
        "from torchvision import datasets\n",
        "from torchvision import transforms\n",
        "import torch.onnx\n",
        "\n",
        "import utils\n",
        "from transformer_net import TransformerNet\n",
        "from vgg import Vgg16\n",
        "\n",
        "device = torch.device(\"cuda\" if torch.cuda.is_available() else \"cpu\")\n",
        "print(device)"
      ],
      "execution_count": 0,
      "outputs": []
    },
    {
      "cell_type": "markdown",
      "metadata": {
        "id": "BLiVKFkVPukG",
        "colab_type": "text"
      },
      "source": [
        "# parameter setting"
      ]
    },
    {
      "cell_type": "code",
      "metadata": {
        "id": "HWH5oWG0qzhz",
        "colab_type": "code",
        "colab": {}
      },
      "source": [
        "cd /content/gdrive/My Drive/ImageProject"
      ],
      "execution_count": 0,
      "outputs": []
    },
    {
      "cell_type": "code",
      "metadata": {
        "id": "cS9CTTSRVCkV",
        "colab_type": "code",
        "colab": {}
      },
      "source": [
        "cd style_train_weight_box"
      ],
      "execution_count": 0,
      "outputs": []
    },
    {
      "cell_type": "code",
      "metadata": {
        "id": "d6HnMrf0Qx2m",
        "colab_type": "code",
        "outputId": "e0134923-81cc-4dff-d557-daa7cecf67d1",
        "colab": {
          "base_uri": "https://localhost:8080/",
          "height": 1161
        }
      },
      "source": [
        "ll\n"
      ],
      "execution_count": 0,
      "outputs": [
        {
          "output_type": "stream",
          "text": [
            "total 1261248\n",
            "-rw------- 1 root 20179623 Jun 22 11:37 ckpt_epoch_0_batch_id_500.pth\n",
            "-rw------- 1 root 20179627 Jun 22 12:40 ckpt_epoch_10_batch_id_500.pth\n",
            "-rw------- 1 root 20179627 Jun 22 12:46 ckpt_epoch_11_batch_id_500.pth\n",
            "-rw------- 1 root 20179629 Jun 22 12:52 ckpt_epoch_12_batch_id_500.pth\n",
            "-rw------- 1 root 20179627 Jun 22 12:58 ckpt_epoch_13_batch_id_500.pth\n",
            "-rw------- 1 root 20179629 Jun 22 13:05 ckpt_epoch_14_batch_id_500.pth\n",
            "-rw------- 1 root 20179627 Jun 22 13:11 ckpt_epoch_15_batch_id_500.pth\n",
            "-rw------- 1 root 20179625 Jun 22 13:17 ckpt_epoch_16_batch_id_500.pth\n",
            "-rw------- 1 root 20179625 Jun 22 13:23 ckpt_epoch_17_batch_id_500.pth\n",
            "-rw------- 1 root 20179627 Jun 22 13:29 ckpt_epoch_18_batch_id_500.pth\n",
            "-rw------- 1 root 20179625 Jun 22 13:36 ckpt_epoch_19_batch_id_500.pth\n",
            "-rw------- 1 root 20179623 Jun 22 11:44 ckpt_epoch_1_batch_id_500.pth\n",
            "-rw------- 1 root 20179621 Jun 22 13:42 ckpt_epoch_20_batch_id_500.pth\n",
            "-rw------- 1 root 20179619 Jun 22 13:48 ckpt_epoch_21_batch_id_500.pth\n",
            "-rw------- 1 root 20179757 Jun 22 15:31 ckpt_epoch_22_batch_id_500.pth\n",
            "-rw------- 1 root 20179753 Jun 22 15:37 ckpt_epoch_23_batch_id_500.pth\n",
            "-rw------- 1 root 20179745 Jun 22 15:43 ckpt_epoch_24_batch_id_500.pth\n",
            "-rw------- 1 root 20179749 Jun 22 15:49 ckpt_epoch_25_batch_id_500.pth\n",
            "-rw------- 1 root 20179745 Jun 22 15:56 ckpt_epoch_26_batch_id_500.pth\n",
            "-rw------- 1 root 20179737 Jun 22 16:02 ckpt_epoch_27_batch_id_500.pth\n",
            "-rw------- 1 root 20179737 Jun 22 16:08 ckpt_epoch_28_batch_id_500.pth\n",
            "-rw------- 1 root 20179729 Jun 22 16:15 ckpt_epoch_29_batch_id_500.pth\n",
            "-rw------- 1 root 20179627 Jun 22 11:50 ckpt_epoch_2_batch_id_500.pth\n",
            "-rw------- 1 root 20179725 Jun 22 16:21 ckpt_epoch_30_batch_id_500.pth\n",
            "-rw------- 1 root 20179729 Jun 22 16:27 ckpt_epoch_31_batch_id_500.pth\n",
            "-rw------- 1 root 20179725 Jun 22 16:33 ckpt_epoch_32_batch_id_500.pth\n",
            "-rw------- 1 root 20179721 Jun 22 16:40 ckpt_epoch_33_batch_id_500.pth\n",
            "-rw------- 1 root 20179717 Jun 22 16:46 ckpt_epoch_34_batch_id_500.pth\n",
            "-rw------- 1 root 20179717 Jun 22 16:52 ckpt_epoch_35_batch_id_500.pth\n",
            "-rw------- 1 root 20179721 Jun 22 16:59 ckpt_epoch_36_batch_id_500.pth\n",
            "-rw------- 1 root 20179721 Jun 22 17:05 ckpt_epoch_37_batch_id_500.pth\n",
            "-rw------- 1 root 20179721 Jun 22 17:11 ckpt_epoch_38_batch_id_500.pth\n",
            "-rw------- 1 root 20179721 Jun 22 17:17 ckpt_epoch_39_batch_id_500.pth\n",
            "-rw------- 1 root 20179631 Jun 22 11:56 ckpt_epoch_3_batch_id_500.pth\n",
            "-rw------- 1 root 20179725 Jun 22 17:24 ckpt_epoch_40_batch_id_500.pth\n",
            "-rw------- 1 root 20179721 Jun 22 17:30 ckpt_epoch_41_batch_id_500.pth\n",
            "-rw------- 1 root 20179729 Jun 22 17:36 ckpt_epoch_42_batch_id_500.pth\n",
            "-rw------- 1 root 20179729 Jun 22 17:43 ckpt_epoch_43_batch_id_500.pth\n",
            "-rw------- 1 root 20179729 Jun 22 17:49 ckpt_epoch_44_batch_id_500.pth\n",
            "-rw------- 1 root 20179917 Jun 23 05:16 ckpt_epoch_45_batch_id_500.pth\n",
            "-rw------- 1 root 20179917 Jun 23 05:22 ckpt_epoch_46_batch_id_500.pth\n",
            "-rw------- 1 root 20179917 Jun 23 05:29 ckpt_epoch_47_batch_id_500.pth\n",
            "-rw------- 1 root 20179917 Jun 23 05:35 ckpt_epoch_48_batch_id_500.pth\n",
            "-rw------- 1 root 20179917 Jun 23 05:41 ckpt_epoch_49_batch_id_500.pth\n",
            "-rw------- 1 root 20179629 Jun 22 12:02 ckpt_epoch_4_batch_id_500.pth\n",
            "-rw------- 1 root 20179913 Jun 23 05:47 ckpt_epoch_50_batch_id_500.pth\n",
            "-rw------- 1 root 20179909 Jun 23 05:53 ckpt_epoch_51_batch_id_500.pth\n",
            "-rw------- 1 root 20179909 Jun 23 05:59 ckpt_epoch_52_batch_id_500.pth\n",
            "-rw------- 1 root 20179909 Jun 23 06:06 ckpt_epoch_53_batch_id_500.pth\n",
            "-rw------- 1 root 20179909 Jun 23 06:12 ckpt_epoch_54_batch_id_500.pth\n",
            "-rw------- 1 root 20179909 Jun 23 06:18 ckpt_epoch_55_batch_id_500.pth\n",
            "-rw------- 1 root 20179905 Jun 23 06:24 ckpt_epoch_56_batch_id_500.pth\n",
            "-rw------- 1 root 20179909 Jun 23 06:30 ckpt_epoch_57_batch_id_500.pth\n",
            "-rw------- 1 root 20179905 Jun 23 06:36 ckpt_epoch_58_batch_id_500.pth\n",
            "-rw------- 1 root 20179909 Jun 23 06:43 ckpt_epoch_59_batch_id_500.pth\n",
            "-rw------- 1 root 20179635 Jun 22 12:08 ckpt_epoch_5_batch_id_500.pth\n",
            "-rw------- 1 root 20179907 Jun 23 06:49 ckpt_epoch_60_batch_id_500.pth\n",
            "-rw------- 1 root 20179907 Jun 23 06:55 ckpt_epoch_61_batch_id_500.pth\n",
            "-rw------- 1 root 20179907 Jun 23 07:01 ckpt_epoch_62_batch_id_500.pth\n",
            "-rw------- 1 root 20179901 Jun 23 07:07 ckpt_epoch_63_batch_id_500.pth\n",
            "-rw------- 1 root 20179633 Jun 22 12:15 ckpt_epoch_6_batch_id_500.pth\n",
            "-rw------- 1 root 20179633 Jun 22 12:21 ckpt_epoch_7_batch_id_500.pth\n",
            "-rw------- 1 root 20179629 Jun 22 12:27 ckpt_epoch_8_batch_id_500.pth\n",
            "-rw------- 1 root 20179629 Jun 22 12:33 ckpt_epoch_9_batch_id_500.pth\n"
          ],
          "name": "stdout"
        }
      ]
    },
    {
      "cell_type": "code",
      "metadata": {
        "id": "MGqlh34OUz2v",
        "colab_type": "code",
        "colab": {}
      },
      "source": [
        "rm ./*"
      ],
      "execution_count": 0,
      "outputs": []
    },
    {
      "cell_type": "code",
      "metadata": {
        "id": "ozDS7dv7U6VT",
        "colab_type": "code",
        "outputId": "520917e8-db91-4466-9c38-5139f4260008",
        "colab": {
          "base_uri": "https://localhost:8080/",
          "height": 34
        }
      },
      "source": [
        "ll"
      ],
      "execution_count": 0,
      "outputs": [
        {
          "output_type": "stream",
          "text": [
            "total 0\n"
          ],
          "name": "stdout"
        }
      ]
    },
    {
      "cell_type": "code",
      "metadata": {
        "id": "XkNH5BanrDcq",
        "colab_type": "code",
        "outputId": "812021d0-d2b4-480f-9f16-2b7c74cfdcc9",
        "colab": {
          "base_uri": "https://localhost:8080/",
          "height": 34
        }
      },
      "source": [
        "mkdir style_train_weight_box"
      ],
      "execution_count": 0,
      "outputs": [
        {
          "output_type": "stream",
          "text": [
            "mkdir: cannot create directory ‘style_train_weight_box’: File exists\n"
          ],
          "name": "stdout"
        }
      ]
    },
    {
      "cell_type": "code",
      "metadata": {
        "id": "CbYFSQhfP1q0",
        "colab_type": "code",
        "colab": {}
      },
      "source": [
        "batch_size = 8\n",
        "random_seed = 10\n",
        "\n",
        "num_epochs = 64 \n",
        "initial_lr = 1e-3\n",
        "# weight 저장\n",
        "checkpoint_dir = \"/content/gdrive/My Drive/ImageProject/style_train_weight_box/\"\n",
        "\n",
        "\n",
        "# 기존 이미지 \n",
        "content_weight=1e5\n",
        "\n",
        "# style image\n",
        "style_weight=1e9\n",
        "log_interval = 50\n",
        "\n",
        "#몇번마다 저장할건지 \n",
        "checkpoint_interval = 500\n",
        "\n",
        "\n",
        "#running_option = \"test\"\n",
        "running_option = \"training\""
      ],
      "execution_count": 0,
      "outputs": []
    },
    {
      "cell_type": "markdown",
      "metadata": {
        "id": "ChkotVw1P1FA",
        "colab_type": "text"
      },
      "source": [
        ""
      ]
    },
    {
      "cell_type": "markdown",
      "metadata": {
        "id": "Br6kJ4QkMBmf",
        "colab_type": "text"
      },
      "source": [
        "# make dataloader"
      ]
    },
    {
      "cell_type": "code",
      "metadata": {
        "id": "OYTQQD7eNIgD",
        "colab_type": "code",
        "colab": {}
      },
      "source": [
        "np.random.seed(random_seed)\n",
        "torch.manual_seed(random_seed)\n",
        "\n",
        "# for train_set\n",
        "transform = transforms.Compose([\n",
        "    transforms.Resize(256),\n",
        "    transforms.CenterCrop(256),\n",
        "    transforms.ToTensor(),\n",
        "    transforms.Lambda(lambda x: x.mul(255))\n",
        "])\n",
        "\n",
        "# for style_img\n",
        "# 사이즈 상관 x\n",
        "style_transform = transforms.Compose([\n",
        "    transforms.ToTensor(),\n",
        "    transforms.Lambda(lambda x: x.mul(255))\n",
        "])\n",
        "\n",
        "\n",
        "\n",
        "train_dataset = datasets.ImageFolder(\"/root/coco\", transform)\n",
        "train_loader = torch.utils.data.DataLoader(train_dataset, batch_size=batch_size)\n",
        "\n",
        "transformer = TransformerNet().to(device)\n",
        "optimizer = torch.optim.Adam(transformer.parameters(), initial_lr)\n",
        "mse_loss = torch.nn.MSELoss()"
      ],
      "execution_count": 0,
      "outputs": []
    },
    {
      "cell_type": "markdown",
      "metadata": {
        "id": "Uk6aL03APhIj",
        "colab_type": "text"
      },
      "source": [
        "# for style image"
      ]
    },
    {
      "cell_type": "code",
      "metadata": {
        "id": "NtZVKP1jPjmK",
        "colab_type": "code",
        "outputId": "6576d086-3583-4bf0-ddc2-184f1ad1562c",
        "colab": {
          "base_uri": "https://localhost:8080/",
          "height": 386
        }
      },
      "source": [
        "# for style_image\n",
        "\n",
        "vgg = Vgg16(requires_grad=False).to(device)\n",
        "style_transform = transforms.Compose([\n",
        "    transforms.ToTensor(),\n",
        "    transforms.Lambda(lambda x: x.mul(255))\n",
        "])\n",
        "\n",
        "\n",
        "style = utils.load_image(filename=style_path+\"sky.jpg\", size=None, scale=None)\n",
        "style = style_transform(style)\n",
        "style = style.repeat(batch_size, 1, 1, 1).to(device)\n",
        "\n",
        "features_style = vgg(utils.normalize_batch(style))\n",
        "gram_style = [utils.gram_matrix(y) for y in features_style]"
      ],
      "execution_count": 0,
      "outputs": [
        {
          "output_type": "error",
          "ename": "FileNotFoundError",
          "evalue": "ignored",
          "traceback": [
            "\u001b[0;31m---------------------------------------------------------------------------\u001b[0m",
            "\u001b[0;31mFileNotFoundError\u001b[0m                         Traceback (most recent call last)",
            "\u001b[0;32m<ipython-input-44-c0c4f799db7d>\u001b[0m in \u001b[0;36m<module>\u001b[0;34m()\u001b[0m\n\u001b[1;32m      7\u001b[0m \u001b[0;34m\u001b[0m\u001b[0m\n\u001b[1;32m      8\u001b[0m \u001b[0;34m\u001b[0m\u001b[0m\n\u001b[0;32m----> 9\u001b[0;31m \u001b[0mstyle\u001b[0m \u001b[0;34m=\u001b[0m \u001b[0mutils\u001b[0m\u001b[0;34m.\u001b[0m\u001b[0mload_image\u001b[0m\u001b[0;34m(\u001b[0m\u001b[0mfilename\u001b[0m\u001b[0;34m=\u001b[0m\u001b[0mstyle_path\u001b[0m\u001b[0;34m+\u001b[0m\u001b[0;34m\"sky.JPG\"\u001b[0m\u001b[0;34m,\u001b[0m \u001b[0msize\u001b[0m\u001b[0;34m=\u001b[0m\u001b[0;32mNone\u001b[0m\u001b[0;34m,\u001b[0m \u001b[0mscale\u001b[0m\u001b[0;34m=\u001b[0m\u001b[0;32mNone\u001b[0m\u001b[0;34m)\u001b[0m\u001b[0;34m\u001b[0m\u001b[0;34m\u001b[0m\u001b[0m\n\u001b[0m\u001b[1;32m     10\u001b[0m \u001b[0mstyle\u001b[0m \u001b[0;34m=\u001b[0m \u001b[0mstyle_transform\u001b[0m\u001b[0;34m(\u001b[0m\u001b[0mstyle\u001b[0m\u001b[0;34m)\u001b[0m\u001b[0;34m\u001b[0m\u001b[0;34m\u001b[0m\u001b[0m\n\u001b[1;32m     11\u001b[0m \u001b[0mstyle\u001b[0m \u001b[0;34m=\u001b[0m \u001b[0mstyle\u001b[0m\u001b[0;34m.\u001b[0m\u001b[0mrepeat\u001b[0m\u001b[0;34m(\u001b[0m\u001b[0mbatch_size\u001b[0m\u001b[0;34m,\u001b[0m \u001b[0;36m1\u001b[0m\u001b[0;34m,\u001b[0m \u001b[0;36m1\u001b[0m\u001b[0;34m,\u001b[0m \u001b[0;36m1\u001b[0m\u001b[0;34m)\u001b[0m\u001b[0;34m.\u001b[0m\u001b[0mto\u001b[0m\u001b[0;34m(\u001b[0m\u001b[0mdevice\u001b[0m\u001b[0;34m)\u001b[0m\u001b[0;34m\u001b[0m\u001b[0;34m\u001b[0m\u001b[0m\n",
            "\u001b[0;32m/root/styletransfer/utils.py\u001b[0m in \u001b[0;36mload_image\u001b[0;34m(filename, size, scale)\u001b[0m\n\u001b[1;32m     10\u001b[0m \u001b[0;34m\u001b[0m\u001b[0m\n\u001b[1;32m     11\u001b[0m \u001b[0;32mdef\u001b[0m \u001b[0mload_image\u001b[0m\u001b[0;34m(\u001b[0m\u001b[0mfilename\u001b[0m\u001b[0;34m,\u001b[0m\u001b[0msize\u001b[0m\u001b[0;34m=\u001b[0m\u001b[0;32mNone\u001b[0m\u001b[0;34m,\u001b[0m \u001b[0mscale\u001b[0m\u001b[0;34m=\u001b[0m\u001b[0;32mNone\u001b[0m\u001b[0;34m)\u001b[0m\u001b[0;34m:\u001b[0m\u001b[0;34m\u001b[0m\u001b[0;34m\u001b[0m\u001b[0m\n\u001b[0;32m---> 12\u001b[0;31m     \u001b[0mimg\u001b[0m \u001b[0;34m=\u001b[0m \u001b[0mImage\u001b[0m\u001b[0;34m.\u001b[0m\u001b[0mopen\u001b[0m\u001b[0;34m(\u001b[0m\u001b[0mfilename\u001b[0m\u001b[0;34m)\u001b[0m\u001b[0;34m\u001b[0m\u001b[0;34m\u001b[0m\u001b[0m\n\u001b[0m\u001b[1;32m     13\u001b[0m     \u001b[0;32mif\u001b[0m \u001b[0msize\u001b[0m \u001b[0;32mis\u001b[0m \u001b[0;32mnot\u001b[0m \u001b[0;32mNone\u001b[0m\u001b[0;34m:\u001b[0m\u001b[0;34m\u001b[0m\u001b[0;34m\u001b[0m\u001b[0m\n\u001b[1;32m     14\u001b[0m         \u001b[0mimg\u001b[0m \u001b[0;34m=\u001b[0m \u001b[0mimg\u001b[0m\u001b[0;34m.\u001b[0m\u001b[0mresize\u001b[0m\u001b[0;34m(\u001b[0m\u001b[0;34m(\u001b[0m\u001b[0msize\u001b[0m\u001b[0;34m,\u001b[0m\u001b[0msize\u001b[0m\u001b[0;34m)\u001b[0m\u001b[0;34m,\u001b[0m\u001b[0mImage\u001b[0m\u001b[0;34m.\u001b[0m\u001b[0mBICUBIC\u001b[0m\u001b[0;34m)\u001b[0m\u001b[0;34m\u001b[0m\u001b[0;34m\u001b[0m\u001b[0m\n",
            "\u001b[0;32m/usr/local/lib/python3.6/dist-packages/PIL/Image.py\u001b[0m in \u001b[0;36mopen\u001b[0;34m(fp, mode)\u001b[0m\n\u001b[1;32m   2528\u001b[0m \u001b[0;34m\u001b[0m\u001b[0m\n\u001b[1;32m   2529\u001b[0m     \u001b[0;32mif\u001b[0m \u001b[0mfilename\u001b[0m\u001b[0;34m:\u001b[0m\u001b[0;34m\u001b[0m\u001b[0;34m\u001b[0m\u001b[0m\n\u001b[0;32m-> 2530\u001b[0;31m         \u001b[0mfp\u001b[0m \u001b[0;34m=\u001b[0m \u001b[0mbuiltins\u001b[0m\u001b[0;34m.\u001b[0m\u001b[0mopen\u001b[0m\u001b[0;34m(\u001b[0m\u001b[0mfilename\u001b[0m\u001b[0;34m,\u001b[0m \u001b[0;34m\"rb\"\u001b[0m\u001b[0;34m)\u001b[0m\u001b[0;34m\u001b[0m\u001b[0;34m\u001b[0m\u001b[0m\n\u001b[0m\u001b[1;32m   2531\u001b[0m         \u001b[0mexclusive_fp\u001b[0m \u001b[0;34m=\u001b[0m \u001b[0;32mTrue\u001b[0m\u001b[0;34m\u001b[0m\u001b[0;34m\u001b[0m\u001b[0m\n\u001b[1;32m   2532\u001b[0m \u001b[0;34m\u001b[0m\u001b[0m\n",
            "\u001b[0;31mFileNotFoundError\u001b[0m: [Errno 2] No such file or directory: '/root/styletransfer/data/style_img/sky.JPG'"
          ]
        }
      ]
    },
    {
      "cell_type": "markdown",
      "metadata": {
        "id": "EnZzcQ_hFcWn",
        "colab_type": "text"
      },
      "source": [
        "# Training"
      ]
    },
    {
      "cell_type": "code",
      "metadata": {
        "id": "FNLIycuiDOI_",
        "colab_type": "code",
        "outputId": "821e07f9-6ebb-47a8-e7c8-e82de861c860",
        "colab": {
          "base_uri": "https://localhost:8080/",
          "height": 4364
        }
      },
      "source": [
        "transfer_learning = False # Inference or training first --> False / Transfer learning --> True\n",
        "ckpt_model_path = os.path.join(checkpoint_dir, \"ckpt_epoch_45_batch_id_500.pth\") #FIXME\n",
        "\n",
        "if transfer_learning:\n",
        "    checkpoint = torch.load(ckpt_model_path, map_location=device)\n",
        "    transformer.load_state_dict(checkpoint['state_dict'])\n",
        "    transformer.to(device)\n",
        "\n",
        "\n",
        "\n",
        "\n",
        "if running_option == \"training\":\n",
        "    if transfer_learning:\n",
        "        transfer_learning_epoch = checkpoint['epoch'] \n",
        "    else:\n",
        "        transfer_learning_epoch = 0\n",
        "\n",
        "    for epoch in range(transfer_learning_epoch, num_epochs):\n",
        "        transformer.train()\n",
        "        agg_content_loss = 0.\n",
        "        agg_style_loss = 0.\n",
        "        count = 0\n",
        "\n",
        "        for batch_id, (x, _) in enumerate(train_loader):\n",
        "            n_batch = len(x)\n",
        "            count += n_batch\n",
        "            optimizer.zero_grad()\n",
        "\n",
        "            x = x.to(device)\n",
        "            y = transformer(x).to(device)\n",
        "\n",
        "            y = utils.normalize_batch(y)\n",
        "            x = utils.normalize_batch(x)\n",
        "\n",
        "            features_y = vgg(y)\n",
        "            features_x = vgg(x)\n",
        "\n",
        "            content_loss = content_weight * mse_loss(features_y.relu2_2, features_x.relu2_2)\n",
        "\n",
        "            style_loss = 0.\n",
        "            \n",
        "            for ft_y, gm_s in zip(features_y, gram_style):\n",
        "                gm_y = utils.gram_matrix(ft_y)\n",
        "                style_loss += mse_loss(gm_y, gm_s[:n_batch, :, :])\n",
        "            style_loss *= style_weight\n",
        "\n",
        "            total_loss = content_loss + style_loss\n",
        "            total_loss.backward()\n",
        "            optimizer.step()\n",
        "\n",
        "            agg_content_loss += content_loss.item()\n",
        "            agg_style_loss += style_loss.item()\n",
        "\n",
        "            if (batch_id + 1) % log_interval == 0:\n",
        "                mesg = \"{}\\tEpoch {}:\\t[{}/{}]\\tcontent: {:.6f}\\tstyle: {:.6f}\\ttotal: {:.6f}\".format(\n",
        "                    time.ctime(), epoch + 1, count, len(train_dataset),\n",
        "                                  agg_content_loss / (batch_id + 1),\n",
        "                                  agg_style_loss / (batch_id + 1),\n",
        "                                  (agg_content_loss + agg_style_loss) / (batch_id + 1)\n",
        "                )\n",
        "                print(mesg)\n",
        "\n",
        "            if checkpoint_dir is not None and (batch_id + 1) % checkpoint_interval == 0:\n",
        "                transformer.eval().cpu()\n",
        "                ckpt_model_filename = \"ckpt_epoch_\" + str(epoch) + \"_batch_id_\" + str(batch_id + 1) + \".pth\"\n",
        "                print(str(epoch), \"th checkpoint is saved!\")\n",
        "                ckpt_model_path = os.path.join(checkpoint_dir, ckpt_model_filename)\n",
        "                torch.save({\n",
        "                'epoch': epoch,\n",
        "                'state_dict': transformer.state_dict(),\n",
        "                'optimizer_state_dict': optimizer.state_dict(),\n",
        "                'loss': total_loss\n",
        "                }, ckpt_model_path)\n",
        "                \n",
        "                transformer.to(device).train() \n",
        "                \n",
        "                \n",
        "                \n",
        "torch.save({\n",
        "    'epoch': epoch,\n",
        "    'state_dict': transformer.state_dict(),\n",
        "    'optimizer_state_dict': optimizer.state_dict(),\n",
        "    'loss': total_loss}\n",
        "    , '/content/gdrive/My Drive/ImageProject/weight_box/neonsignle9.pth')\n",
        "\n"
      ],
      "execution_count": 0,
      "outputs": [
        {
          "output_type": "stream",
          "text": [
            "Sun Jun 23 05:12:14 2019\tEpoch 46:\t[400/5000]\tcontent: 72477.539531\tstyle: 65609.980938\ttotal: 138087.520469\n",
            "Sun Jun 23 05:12:43 2019\tEpoch 46:\t[800/5000]\tcontent: 72691.558555\tstyle: 67113.093281\ttotal: 139804.651836\n",
            "Sun Jun 23 05:13:13 2019\tEpoch 46:\t[1200/5000]\tcontent: 72447.936875\tstyle: 67330.138932\ttotal: 139778.075807\n",
            "Sun Jun 23 05:13:43 2019\tEpoch 46:\t[1600/5000]\tcontent: 73094.224980\tstyle: 67604.408594\ttotal: 140698.633574\n",
            "Sun Jun 23 05:14:12 2019\tEpoch 46:\t[2000/5000]\tcontent: 72824.719500\tstyle: 67416.100969\ttotal: 140240.820469\n",
            "Sun Jun 23 05:14:42 2019\tEpoch 46:\t[2400/5000]\tcontent: 73088.931458\tstyle: 67429.337904\ttotal: 140518.269362\n",
            "Sun Jun 23 05:15:12 2019\tEpoch 46:\t[2800/5000]\tcontent: 73298.978672\tstyle: 67519.392054\ttotal: 140818.370725\n",
            "Sun Jun 23 05:15:41 2019\tEpoch 46:\t[3200/5000]\tcontent: 73010.711348\tstyle: 67435.234414\ttotal: 140445.945762\n",
            "Sun Jun 23 05:16:11 2019\tEpoch 46:\t[3600/5000]\tcontent: 72842.669661\tstyle: 67378.970929\ttotal: 140221.640590\n",
            "Sun Jun 23 05:16:41 2019\tEpoch 46:\t[4000/5000]\tcontent: 72966.880727\tstyle: 67461.631453\ttotal: 140428.512180\n",
            "45 th checkpoint is saved!\n",
            "Sun Jun 23 05:17:11 2019\tEpoch 46:\t[4400/5000]\tcontent: 72948.183082\tstyle: 67535.630866\ttotal: 140483.813949\n",
            "Sun Jun 23 05:17:40 2019\tEpoch 46:\t[4800/5000]\tcontent: 72789.263997\tstyle: 67420.048809\ttotal: 140209.312806\n",
            "Sun Jun 23 05:18:25 2019\tEpoch 47:\t[400/5000]\tcontent: 70836.775781\tstyle: 65787.082812\ttotal: 136623.858594\n",
            "Sun Jun 23 05:18:54 2019\tEpoch 47:\t[800/5000]\tcontent: 71754.948984\tstyle: 67217.836133\ttotal: 138972.785117\n",
            "Sun Jun 23 05:19:24 2019\tEpoch 47:\t[1200/5000]\tcontent: 71743.952057\tstyle: 67408.014167\ttotal: 139151.966224\n",
            "Sun Jun 23 05:19:54 2019\tEpoch 47:\t[1600/5000]\tcontent: 72498.047637\tstyle: 67671.606133\ttotal: 140169.653770\n",
            "Sun Jun 23 05:20:23 2019\tEpoch 47:\t[2000/5000]\tcontent: 72243.620250\tstyle: 67483.347406\ttotal: 139726.967656\n",
            "Sun Jun 23 05:20:53 2019\tEpoch 47:\t[2400/5000]\tcontent: 72468.809362\tstyle: 67492.135508\ttotal: 139960.944870\n",
            "Sun Jun 23 05:21:23 2019\tEpoch 47:\t[2800/5000]\tcontent: 72626.198460\tstyle: 67582.371261\ttotal: 140208.569721\n",
            "Sun Jun 23 05:21:52 2019\tEpoch 47:\t[3200/5000]\tcontent: 72330.523770\tstyle: 67512.322178\ttotal: 139842.845947\n",
            "Sun Jun 23 05:22:22 2019\tEpoch 47:\t[3600/5000]\tcontent: 72201.132014\tstyle: 67460.900217\ttotal: 139662.032231\n",
            "Sun Jun 23 05:22:51 2019\tEpoch 47:\t[4000/5000]\tcontent: 72377.612109\tstyle: 67526.398023\ttotal: 139904.010133\n",
            "46 th checkpoint is saved!\n",
            "Sun Jun 23 05:23:21 2019\tEpoch 47:\t[4400/5000]\tcontent: 72419.878729\tstyle: 67599.360440\ttotal: 140019.239169\n",
            "Sun Jun 23 05:23:51 2019\tEpoch 47:\t[4800/5000]\tcontent: 72323.950039\tstyle: 67474.325378\ttotal: 139798.275417\n",
            "Sun Jun 23 05:24:35 2019\tEpoch 48:\t[400/5000]\tcontent: 70540.762891\tstyle: 65953.577344\ttotal: 136494.340234\n",
            "Sun Jun 23 05:25:05 2019\tEpoch 48:\t[800/5000]\tcontent: 71504.296172\tstyle: 67314.130391\ttotal: 138818.426563\n",
            "Sun Jun 23 05:25:34 2019\tEpoch 48:\t[1200/5000]\tcontent: 71437.260599\tstyle: 67480.050859\ttotal: 138917.311458\n",
            "Sun Jun 23 05:26:04 2019\tEpoch 48:\t[1600/5000]\tcontent: 72281.638164\tstyle: 67700.370762\ttotal: 139982.008926\n",
            "Sun Jun 23 05:26:33 2019\tEpoch 48:\t[2000/5000]\tcontent: 72128.309609\tstyle: 67491.357984\ttotal: 139619.667594\n",
            "Sun Jun 23 05:27:03 2019\tEpoch 48:\t[2400/5000]\tcontent: 72392.864727\tstyle: 67533.427708\ttotal: 139926.292435\n",
            "Sun Jun 23 05:27:33 2019\tEpoch 48:\t[2800/5000]\tcontent: 72589.225513\tstyle: 67612.170112\ttotal: 140201.395625\n",
            "Sun Jun 23 05:28:02 2019\tEpoch 48:\t[3200/5000]\tcontent: 72294.533984\tstyle: 67535.649932\ttotal: 139830.183916\n",
            "Sun Jun 23 05:28:32 2019\tEpoch 48:\t[3600/5000]\tcontent: 72145.828047\tstyle: 67478.399201\ttotal: 139624.227248\n",
            "Sun Jun 23 05:29:01 2019\tEpoch 48:\t[4000/5000]\tcontent: 72322.346734\tstyle: 67561.027789\ttotal: 139883.374523\n",
            "47 th checkpoint is saved!\n",
            "Sun Jun 23 05:29:31 2019\tEpoch 48:\t[4400/5000]\tcontent: 72358.747876\tstyle: 67620.560305\ttotal: 139979.308182\n",
            "Sun Jun 23 05:30:01 2019\tEpoch 48:\t[4800/5000]\tcontent: 72236.364902\tstyle: 67499.571328\ttotal: 139735.936230\n",
            "Sun Jun 23 05:30:45 2019\tEpoch 49:\t[400/5000]\tcontent: 70350.520547\tstyle: 65992.270000\ttotal: 136342.790547\n",
            "Sun Jun 23 05:31:15 2019\tEpoch 49:\t[800/5000]\tcontent: 71362.754258\tstyle: 67271.171445\ttotal: 138633.925703\n",
            "Sun Jun 23 05:31:44 2019\tEpoch 49:\t[1200/5000]\tcontent: 71241.591797\tstyle: 67463.163828\ttotal: 138704.755625\n",
            "Sun Jun 23 05:32:14 2019\tEpoch 49:\t[1600/5000]\tcontent: 72121.271289\tstyle: 67694.840117\ttotal: 139816.111406\n",
            "Sun Jun 23 05:32:43 2019\tEpoch 49:\t[2000/5000]\tcontent: 71926.056891\tstyle: 67498.467937\ttotal: 139424.524828\n",
            "Sun Jun 23 05:33:13 2019\tEpoch 49:\t[2400/5000]\tcontent: 72169.085169\tstyle: 67527.768320\ttotal: 139696.853490\n",
            "Sun Jun 23 05:33:43 2019\tEpoch 49:\t[2800/5000]\tcontent: 72337.080000\tstyle: 67612.421663\ttotal: 139949.501663\n",
            "Sun Jun 23 05:34:12 2019\tEpoch 49:\t[3200/5000]\tcontent: 72089.357891\tstyle: 67528.842666\ttotal: 139618.200557\n",
            "Sun Jun 23 05:34:42 2019\tEpoch 49:\t[3600/5000]\tcontent: 72010.468056\tstyle: 67452.398776\ttotal: 139462.866832\n",
            "Sun Jun 23 05:35:12 2019\tEpoch 49:\t[4000/5000]\tcontent: 72202.640969\tstyle: 67546.942734\ttotal: 139749.583703\n",
            "48 th checkpoint is saved!\n",
            "Sun Jun 23 05:35:41 2019\tEpoch 49:\t[4400/5000]\tcontent: 72238.926115\tstyle: 67607.517237\ttotal: 139846.443352\n",
            "Sun Jun 23 05:36:11 2019\tEpoch 49:\t[4800/5000]\tcontent: 72115.520866\tstyle: 67491.853555\ttotal: 139607.374421\n",
            "Sun Jun 23 05:36:55 2019\tEpoch 50:\t[400/5000]\tcontent: 70719.661719\tstyle: 65818.540078\ttotal: 136538.201797\n",
            "Sun Jun 23 05:37:25 2019\tEpoch 50:\t[800/5000]\tcontent: 71325.098125\tstyle: 67262.933828\ttotal: 138588.031953\n",
            "Sun Jun 23 05:37:55 2019\tEpoch 50:\t[1200/5000]\tcontent: 71209.012005\tstyle: 67457.919115\ttotal: 138666.931120\n",
            "Sun Jun 23 05:38:24 2019\tEpoch 50:\t[1600/5000]\tcontent: 72104.129531\tstyle: 67690.847578\ttotal: 139794.977109\n",
            "Sun Jun 23 05:38:54 2019\tEpoch 50:\t[2000/5000]\tcontent: 71862.247281\tstyle: 67507.576672\ttotal: 139369.823953\n",
            "Sun Jun 23 05:39:23 2019\tEpoch 50:\t[2400/5000]\tcontent: 72142.397409\tstyle: 67540.758529\ttotal: 139683.155938\n",
            "Sun Jun 23 05:39:53 2019\tEpoch 50:\t[2800/5000]\tcontent: 72328.988371\tstyle: 67623.626429\ttotal: 139952.614799\n",
            "Sun Jun 23 05:40:23 2019\tEpoch 50:\t[3200/5000]\tcontent: 72033.597334\tstyle: 67539.722451\ttotal: 139573.319785\n",
            "Sun Jun 23 05:40:52 2019\tEpoch 50:\t[3600/5000]\tcontent: 71899.395278\tstyle: 67470.714653\ttotal: 139370.109931\n",
            "Sun Jun 23 05:41:22 2019\tEpoch 50:\t[4000/5000]\tcontent: 72059.627180\tstyle: 67550.205914\ttotal: 139609.833094\n",
            "49 th checkpoint is saved!\n",
            "Sun Jun 23 05:41:52 2019\tEpoch 50:\t[4400/5000]\tcontent: 72056.646044\tstyle: 67622.293906\ttotal: 139678.939950\n",
            "Sun Jun 23 05:42:21 2019\tEpoch 50:\t[4800/5000]\tcontent: 71975.584746\tstyle: 67490.219245\ttotal: 139465.803991\n",
            "Sun Jun 23 05:43:06 2019\tEpoch 51:\t[400/5000]\tcontent: 70820.881875\tstyle: 65895.994375\ttotal: 136716.876250\n",
            "Sun Jun 23 05:43:35 2019\tEpoch 51:\t[800/5000]\tcontent: 71532.229023\tstyle: 67220.705352\ttotal: 138752.934375\n",
            "Sun Jun 23 05:44:05 2019\tEpoch 51:\t[1200/5000]\tcontent: 71348.014844\tstyle: 67440.172734\ttotal: 138788.187578\n",
            "Sun Jun 23 05:44:35 2019\tEpoch 51:\t[1600/5000]\tcontent: 72093.093398\tstyle: 67701.189375\ttotal: 139794.282773\n",
            "Sun Jun 23 05:45:04 2019\tEpoch 51:\t[2000/5000]\tcontent: 71968.263000\tstyle: 67517.209594\ttotal: 139485.472594\n",
            "Sun Jun 23 05:45:34 2019\tEpoch 51:\t[2400/5000]\tcontent: 72118.484974\tstyle: 67578.428529\ttotal: 139696.913503\n",
            "Sun Jun 23 05:46:03 2019\tEpoch 51:\t[2800/5000]\tcontent: 72248.207489\tstyle: 67661.155938\ttotal: 139909.363426\n",
            "Sun Jun 23 05:46:33 2019\tEpoch 51:\t[3200/5000]\tcontent: 71938.358320\tstyle: 67580.132041\ttotal: 139518.490361\n",
            "Sun Jun 23 05:47:03 2019\tEpoch 51:\t[3600/5000]\tcontent: 71800.706953\tstyle: 67508.586979\ttotal: 139309.293932\n",
            "Sun Jun 23 05:47:32 2019\tEpoch 51:\t[4000/5000]\tcontent: 71960.683227\tstyle: 67599.065047\ttotal: 139559.748273\n",
            "50 th checkpoint is saved!\n",
            "Sun Jun 23 05:48:02 2019\tEpoch 51:\t[4400/5000]\tcontent: 71960.417884\tstyle: 67673.918452\ttotal: 139634.336335\n",
            "Sun Jun 23 05:48:32 2019\tEpoch 51:\t[4800/5000]\tcontent: 71825.080612\tstyle: 67558.579681\ttotal: 139383.660293\n",
            "Sun Jun 23 05:49:16 2019\tEpoch 52:\t[400/5000]\tcontent: 70306.559063\tstyle: 65968.018125\ttotal: 136274.577187\n",
            "Sun Jun 23 05:49:46 2019\tEpoch 52:\t[800/5000]\tcontent: 71215.012266\tstyle: 67264.724687\ttotal: 138479.736953\n",
            "Sun Jun 23 05:50:15 2019\tEpoch 52:\t[1200/5000]\tcontent: 71000.280469\tstyle: 67485.660469\ttotal: 138485.940938\n",
            "Sun Jun 23 05:50:45 2019\tEpoch 52:\t[1600/5000]\tcontent: 71794.923945\tstyle: 67735.555742\ttotal: 139530.479687\n",
            "Sun Jun 23 05:51:15 2019\tEpoch 52:\t[2000/5000]\tcontent: 71630.977453\tstyle: 67532.471719\ttotal: 139163.449172\n",
            "Sun Jun 23 05:51:44 2019\tEpoch 52:\t[2400/5000]\tcontent: 71784.373633\tstyle: 67604.422409\ttotal: 139388.796042\n",
            "Sun Jun 23 05:52:14 2019\tEpoch 52:\t[2800/5000]\tcontent: 71954.151060\tstyle: 67686.623683\ttotal: 139640.774743\n",
            "Sun Jun 23 05:52:43 2019\tEpoch 52:\t[3200/5000]\tcontent: 71691.096279\tstyle: 67588.316807\ttotal: 139279.413086\n",
            "Sun Jun 23 05:53:13 2019\tEpoch 52:\t[3600/5000]\tcontent: 71556.918073\tstyle: 67525.691181\ttotal: 139082.609253\n",
            "Sun Jun 23 05:53:42 2019\tEpoch 52:\t[4000/5000]\tcontent: 71714.824836\tstyle: 67611.922438\ttotal: 139326.747273\n",
            "51 th checkpoint is saved!\n",
            "Sun Jun 23 05:54:12 2019\tEpoch 52:\t[4400/5000]\tcontent: 71722.787415\tstyle: 67669.418430\ttotal: 139392.205845\n",
            "Sun Jun 23 05:54:42 2019\tEpoch 52:\t[4800/5000]\tcontent: 71586.653457\tstyle: 67555.640189\ttotal: 139142.293646\n",
            "Sun Jun 23 05:55:26 2019\tEpoch 53:\t[400/5000]\tcontent: 69977.725156\tstyle: 66080.300469\ttotal: 136058.025625\n",
            "Sun Jun 23 05:55:56 2019\tEpoch 53:\t[800/5000]\tcontent: 71187.915898\tstyle: 67346.159336\ttotal: 138534.075234\n",
            "Sun Jun 23 05:56:26 2019\tEpoch 53:\t[1200/5000]\tcontent: 71070.301016\tstyle: 67494.939505\ttotal: 138565.240521\n",
            "Sun Jun 23 05:56:55 2019\tEpoch 53:\t[1600/5000]\tcontent: 71795.892461\tstyle: 67767.569160\ttotal: 139563.461621\n",
            "Sun Jun 23 05:57:25 2019\tEpoch 53:\t[2000/5000]\tcontent: 71546.568703\tstyle: 67560.831469\ttotal: 139107.400172\n",
            "Sun Jun 23 05:57:55 2019\tEpoch 53:\t[2400/5000]\tcontent: 71722.524596\tstyle: 67608.289479\ttotal: 139330.814076\n",
            "Sun Jun 23 05:58:24 2019\tEpoch 53:\t[2800/5000]\tcontent: 71887.972812\tstyle: 67684.205000\ttotal: 139572.177813\n",
            "Sun Jun 23 05:58:54 2019\tEpoch 53:\t[3200/5000]\tcontent: 71637.734258\tstyle: 67595.969043\ttotal: 139233.703301\n",
            "Sun Jun 23 05:59:24 2019\tEpoch 53:\t[3600/5000]\tcontent: 71529.630208\tstyle: 67522.872153\ttotal: 139052.502361\n",
            "Sun Jun 23 05:59:53 2019\tEpoch 53:\t[4000/5000]\tcontent: 71686.393945\tstyle: 67625.097219\ttotal: 139311.491164\n",
            "52 th checkpoint is saved!\n",
            "Sun Jun 23 06:00:23 2019\tEpoch 53:\t[4400/5000]\tcontent: 71694.312642\tstyle: 67688.163232\ttotal: 139382.475874\n",
            "Sun Jun 23 06:00:53 2019\tEpoch 53:\t[4800/5000]\tcontent: 71557.553971\tstyle: 67565.698711\ttotal: 139123.252682\n",
            "Sun Jun 23 06:01:37 2019\tEpoch 54:\t[400/5000]\tcontent: 69797.390000\tstyle: 65947.559219\ttotal: 135744.949219\n",
            "Sun Jun 23 06:02:07 2019\tEpoch 54:\t[800/5000]\tcontent: 71133.005078\tstyle: 67266.842734\ttotal: 138399.847812\n",
            "Sun Jun 23 06:02:36 2019\tEpoch 54:\t[1200/5000]\tcontent: 71107.056641\tstyle: 67461.737005\ttotal: 138568.793646\n",
            "Sun Jun 23 06:03:06 2019\tEpoch 54:\t[1600/5000]\tcontent: 71877.958789\tstyle: 67714.822090\ttotal: 139592.780879\n",
            "Sun Jun 23 06:03:35 2019\tEpoch 54:\t[2000/5000]\tcontent: 71625.548094\tstyle: 67522.070688\ttotal: 139147.618781\n",
            "Sun Jun 23 06:04:05 2019\tEpoch 54:\t[2400/5000]\tcontent: 71714.478490\tstyle: 67593.703932\ttotal: 139308.182422\n",
            "Sun Jun 23 06:04:34 2019\tEpoch 54:\t[2800/5000]\tcontent: 71861.892589\tstyle: 67661.001931\ttotal: 139522.894520\n",
            "Sun Jun 23 06:05:04 2019\tEpoch 54:\t[3200/5000]\tcontent: 71568.029150\tstyle: 67612.099668\ttotal: 139180.128818\n",
            "Sun Jun 23 06:05:34 2019\tEpoch 54:\t[3600/5000]\tcontent: 71418.017405\tstyle: 67543.111024\ttotal: 138961.128429\n",
            "Sun Jun 23 06:06:03 2019\tEpoch 54:\t[4000/5000]\tcontent: 71566.241023\tstyle: 67625.628781\ttotal: 139191.869805\n",
            "53 th checkpoint is saved!\n",
            "Sun Jun 23 06:06:33 2019\tEpoch 54:\t[4400/5000]\tcontent: 71571.187337\tstyle: 67698.155135\ttotal: 139269.342472\n",
            "Sun Jun 23 06:07:02 2019\tEpoch 54:\t[4800/5000]\tcontent: 71435.103444\tstyle: 67577.045306\ttotal: 139012.148750\n",
            "Sun Jun 23 06:07:47 2019\tEpoch 55:\t[400/5000]\tcontent: 69862.982734\tstyle: 65978.496641\ttotal: 135841.479375\n",
            "Sun Jun 23 06:08:16 2019\tEpoch 55:\t[800/5000]\tcontent: 70950.806523\tstyle: 67291.484844\ttotal: 138242.291367\n",
            "Sun Jun 23 06:08:46 2019\tEpoch 55:\t[1200/5000]\tcontent: 70882.546042\tstyle: 67494.964505\ttotal: 138377.510547\n",
            "Sun Jun 23 06:09:16 2019\tEpoch 55:\t[1600/5000]\tcontent: 71702.418086\tstyle: 67717.161113\ttotal: 139419.579199\n",
            "Sun Jun 23 06:09:45 2019\tEpoch 55:\t[2000/5000]\tcontent: 71471.871656\tstyle: 67526.564500\ttotal: 138998.436156\n",
            "Sun Jun 23 06:10:15 2019\tEpoch 55:\t[2400/5000]\tcontent: 71682.060352\tstyle: 67603.544909\ttotal: 139285.605260\n",
            "Sun Jun 23 06:10:45 2019\tEpoch 55:\t[2800/5000]\tcontent: 71855.620547\tstyle: 67673.998984\ttotal: 139529.619531\n",
            "Sun Jun 23 06:11:14 2019\tEpoch 55:\t[3200/5000]\tcontent: 71558.410947\tstyle: 67589.983916\ttotal: 139148.394863\n",
            "Sun Jun 23 06:11:44 2019\tEpoch 55:\t[3600/5000]\tcontent: 71425.396137\tstyle: 67524.157613\ttotal: 138949.553750\n",
            "Sun Jun 23 06:12:13 2019\tEpoch 55:\t[4000/5000]\tcontent: 71568.727437\tstyle: 67613.273992\ttotal: 139182.001430\n",
            "54 th checkpoint is saved!\n",
            "Sun Jun 23 06:12:43 2019\tEpoch 55:\t[4400/5000]\tcontent: 71553.568267\tstyle: 67680.149226\ttotal: 139233.717493\n",
            "Sun Jun 23 06:13:13 2019\tEpoch 55:\t[4800/5000]\tcontent: 71413.097500\tstyle: 67563.365762\ttotal: 138976.463262\n",
            "Sun Jun 23 06:13:57 2019\tEpoch 56:\t[400/5000]\tcontent: 69901.601875\tstyle: 65912.421016\ttotal: 135814.022891\n",
            "Sun Jun 23 06:14:27 2019\tEpoch 56:\t[800/5000]\tcontent: 70935.389922\tstyle: 67256.325352\ttotal: 138191.715273\n",
            "Sun Jun 23 06:14:56 2019\tEpoch 56:\t[1200/5000]\tcontent: 70764.239635\tstyle: 67474.913333\ttotal: 138239.152969\n",
            "Sun Jun 23 06:15:26 2019\tEpoch 56:\t[1600/5000]\tcontent: 71552.233281\tstyle: 67703.913516\ttotal: 139256.146797\n",
            "Sun Jun 23 06:15:56 2019\tEpoch 56:\t[2000/5000]\tcontent: 71247.287938\tstyle: 67530.231391\ttotal: 138777.519328\n",
            "Sun Jun 23 06:16:25 2019\tEpoch 56:\t[2400/5000]\tcontent: 71389.275833\tstyle: 67576.078945\ttotal: 138965.354779\n",
            "Sun Jun 23 06:16:55 2019\tEpoch 56:\t[2800/5000]\tcontent: 71594.016786\tstyle: 67657.803147\ttotal: 139251.819933\n",
            "Sun Jun 23 06:17:24 2019\tEpoch 56:\t[3200/5000]\tcontent: 71315.990752\tstyle: 67584.325742\ttotal: 138900.316494\n",
            "Sun Jun 23 06:17:54 2019\tEpoch 56:\t[3600/5000]\tcontent: 71195.853351\tstyle: 67512.127413\ttotal: 138707.980764\n",
            "Sun Jun 23 06:18:23 2019\tEpoch 56:\t[4000/5000]\tcontent: 71344.472547\tstyle: 67616.252805\ttotal: 138960.725352\n",
            "55 th checkpoint is saved!\n",
            "Sun Jun 23 06:18:53 2019\tEpoch 56:\t[4400/5000]\tcontent: 71379.873622\tstyle: 67676.565661\ttotal: 139056.439283\n",
            "Sun Jun 23 06:19:23 2019\tEpoch 56:\t[4800/5000]\tcontent: 71257.595312\tstyle: 67549.819460\ttotal: 138807.414772\n",
            "Sun Jun 23 06:20:07 2019\tEpoch 57:\t[400/5000]\tcontent: 69256.294141\tstyle: 66105.518281\ttotal: 135361.812422\n",
            "Sun Jun 23 06:20:37 2019\tEpoch 57:\t[800/5000]\tcontent: 70459.494883\tstyle: 67308.254414\ttotal: 137767.749297\n",
            "Sun Jun 23 06:21:06 2019\tEpoch 57:\t[1200/5000]\tcontent: 70398.638776\tstyle: 67505.264297\ttotal: 137903.903073\n",
            "Sun Jun 23 06:21:36 2019\tEpoch 57:\t[1600/5000]\tcontent: 71276.360879\tstyle: 67718.964395\ttotal: 138995.325273\n",
            "Sun Jun 23 06:22:05 2019\tEpoch 57:\t[2000/5000]\tcontent: 71009.681578\tstyle: 67539.745391\ttotal: 138549.426969\n",
            "Sun Jun 23 06:22:35 2019\tEpoch 57:\t[2400/5000]\tcontent: 71172.924492\tstyle: 67604.205208\ttotal: 138777.129701\n",
            "Sun Jun 23 06:23:05 2019\tEpoch 57:\t[2800/5000]\tcontent: 71350.226328\tstyle: 67670.929397\ttotal: 139021.155725\n",
            "Sun Jun 23 06:23:34 2019\tEpoch 57:\t[3200/5000]\tcontent: 71050.299648\tstyle: 67605.793789\ttotal: 138656.093438\n",
            "Sun Jun 23 06:24:04 2019\tEpoch 57:\t[3600/5000]\tcontent: 70952.513672\tstyle: 67533.567630\ttotal: 138486.081302\n",
            "Sun Jun 23 06:24:34 2019\tEpoch 57:\t[4000/5000]\tcontent: 71119.771187\tstyle: 67622.925352\ttotal: 138742.696539\n",
            "56 th checkpoint is saved!\n",
            "Sun Jun 23 06:25:03 2019\tEpoch 57:\t[4400/5000]\tcontent: 71141.594048\tstyle: 67697.055121\ttotal: 138838.649169\n",
            "Sun Jun 23 06:25:33 2019\tEpoch 57:\t[4800/5000]\tcontent: 71016.575221\tstyle: 67575.312357\ttotal: 138591.887578\n",
            "Sun Jun 23 06:26:17 2019\tEpoch 58:\t[400/5000]\tcontent: 68993.846406\tstyle: 66147.374844\ttotal: 135141.221250\n",
            "Sun Jun 23 06:26:47 2019\tEpoch 58:\t[800/5000]\tcontent: 70413.569570\tstyle: 67364.577813\ttotal: 137778.147383\n",
            "Sun Jun 23 06:27:17 2019\tEpoch 58:\t[1200/5000]\tcontent: 70457.194401\tstyle: 67570.879245\ttotal: 138028.073646\n",
            "Sun Jun 23 06:27:46 2019\tEpoch 58:\t[1600/5000]\tcontent: 71229.676875\tstyle: 67808.179219\ttotal: 139037.856094\n",
            "Sun Jun 23 06:28:16 2019\tEpoch 58:\t[2000/5000]\tcontent: 70999.710547\tstyle: 67604.570438\ttotal: 138604.280984\n",
            "Sun Jun 23 06:28:45 2019\tEpoch 58:\t[2400/5000]\tcontent: 71117.434427\tstyle: 67657.123529\ttotal: 138774.557956\n",
            "Sun Jun 23 06:29:15 2019\tEpoch 58:\t[2800/5000]\tcontent: 71282.417612\tstyle: 67722.501574\ttotal: 139004.919185\n",
            "Sun Jun 23 06:29:45 2019\tEpoch 58:\t[3200/5000]\tcontent: 70961.228037\tstyle: 67657.782109\ttotal: 138619.010146\n",
            "Sun Jun 23 06:30:14 2019\tEpoch 58:\t[3600/5000]\tcontent: 70850.976528\tstyle: 67581.320295\ttotal: 138432.296823\n",
            "Sun Jun 23 06:30:44 2019\tEpoch 58:\t[4000/5000]\tcontent: 71028.721844\tstyle: 67664.841023\ttotal: 138693.562867\n",
            "57 th checkpoint is saved!\n",
            "Sun Jun 23 06:31:14 2019\tEpoch 58:\t[4400/5000]\tcontent: 71041.407898\tstyle: 67736.253445\ttotal: 138777.661342\n",
            "Sun Jun 23 06:31:43 2019\tEpoch 58:\t[4800/5000]\tcontent: 70906.264785\tstyle: 67610.534727\ttotal: 138516.799512\n",
            "Sun Jun 23 06:32:28 2019\tEpoch 59:\t[400/5000]\tcontent: 68998.215469\tstyle: 66158.712891\ttotal: 135156.928359\n",
            "Sun Jun 23 06:32:57 2019\tEpoch 59:\t[800/5000]\tcontent: 70131.784453\tstyle: 67419.393906\ttotal: 137551.178359\n",
            "Sun Jun 23 06:33:27 2019\tEpoch 59:\t[1200/5000]\tcontent: 70200.479193\tstyle: 67560.214245\ttotal: 137760.693438\n",
            "Sun Jun 23 06:33:57 2019\tEpoch 59:\t[1600/5000]\tcontent: 70978.097988\tstyle: 67791.902676\ttotal: 138770.000664\n",
            "Sun Jun 23 06:34:26 2019\tEpoch 59:\t[2000/5000]\tcontent: 70759.233578\tstyle: 67590.744094\ttotal: 138349.977672\n",
            "Sun Jun 23 06:34:56 2019\tEpoch 59:\t[2400/5000]\tcontent: 70958.770247\tstyle: 67655.202982\ttotal: 138613.973229\n",
            "Sun Jun 23 06:35:25 2019\tEpoch 59:\t[2800/5000]\tcontent: 71131.264989\tstyle: 67720.364676\ttotal: 138851.629665\n",
            "Sun Jun 23 06:35:55 2019\tEpoch 59:\t[3200/5000]\tcontent: 70845.819795\tstyle: 67654.651807\ttotal: 138500.471602\n",
            "Sun Jun 23 06:36:25 2019\tEpoch 59:\t[3600/5000]\tcontent: 70730.313220\tstyle: 67582.248394\ttotal: 138312.561615\n",
            "Sun Jun 23 06:36:54 2019\tEpoch 59:\t[4000/5000]\tcontent: 70906.213898\tstyle: 67664.504609\ttotal: 138570.718508\n",
            "58 th checkpoint is saved!\n",
            "Sun Jun 23 06:37:24 2019\tEpoch 59:\t[4400/5000]\tcontent: 70952.968771\tstyle: 67727.556847\ttotal: 138680.525618\n",
            "Sun Jun 23 06:37:53 2019\tEpoch 59:\t[4800/5000]\tcontent: 70834.521745\tstyle: 67611.947689\ttotal: 138446.469434\n",
            "Sun Jun 23 06:38:38 2019\tEpoch 60:\t[400/5000]\tcontent: 68958.859219\tstyle: 66200.276094\ttotal: 135159.135313\n",
            "Sun Jun 23 06:39:07 2019\tEpoch 60:\t[800/5000]\tcontent: 70204.092188\tstyle: 67390.359531\ttotal: 137594.451719\n",
            "Sun Jun 23 06:39:37 2019\tEpoch 60:\t[1200/5000]\tcontent: 70256.005599\tstyle: 67536.491250\ttotal: 137792.496849\n",
            "Sun Jun 23 06:40:07 2019\tEpoch 60:\t[1600/5000]\tcontent: 71029.176016\tstyle: 67774.754102\ttotal: 138803.930117\n",
            "Sun Jun 23 06:40:36 2019\tEpoch 60:\t[2000/5000]\tcontent: 70769.297000\tstyle: 67588.385594\ttotal: 138357.682594\n",
            "Sun Jun 23 06:41:06 2019\tEpoch 60:\t[2400/5000]\tcontent: 70976.971562\tstyle: 67631.250143\ttotal: 138608.221706\n",
            "Sun Jun 23 06:41:35 2019\tEpoch 60:\t[2800/5000]\tcontent: 71111.342589\tstyle: 67713.082299\ttotal: 138824.424888\n",
            "Sun Jun 23 06:42:05 2019\tEpoch 60:\t[3200/5000]\tcontent: 70845.128369\tstyle: 67641.329512\ttotal: 138486.457881\n",
            "Sun Jun 23 06:42:34 2019\tEpoch 60:\t[3600/5000]\tcontent: 70735.961623\tstyle: 67566.800104\ttotal: 138302.761727\n",
            "Sun Jun 23 06:43:04 2019\tEpoch 60:\t[4000/5000]\tcontent: 70881.153203\tstyle: 67660.196977\ttotal: 138541.350180\n",
            "59 th checkpoint is saved!\n",
            "Sun Jun 23 06:43:33 2019\tEpoch 60:\t[4400/5000]\tcontent: 70890.322969\tstyle: 67728.420639\ttotal: 138618.743608\n",
            "Sun Jun 23 06:44:03 2019\tEpoch 60:\t[4800/5000]\tcontent: 70807.541882\tstyle: 67607.419284\ttotal: 138414.961165\n",
            "Sun Jun 23 06:44:47 2019\tEpoch 61:\t[400/5000]\tcontent: 68986.414062\tstyle: 66189.619609\ttotal: 135176.033672\n",
            "Sun Jun 23 06:45:17 2019\tEpoch 61:\t[800/5000]\tcontent: 70235.505273\tstyle: 67377.962070\ttotal: 137613.467344\n",
            "Sun Jun 23 06:45:47 2019\tEpoch 61:\t[1200/5000]\tcontent: 70117.026224\tstyle: 67572.221302\ttotal: 137689.247526\n",
            "Sun Jun 23 06:46:16 2019\tEpoch 61:\t[1600/5000]\tcontent: 70844.832305\tstyle: 67801.285098\ttotal: 138646.117402\n",
            "Sun Jun 23 06:46:46 2019\tEpoch 61:\t[2000/5000]\tcontent: 70631.071016\tstyle: 67620.839594\ttotal: 138251.910609\n",
            "Sun Jun 23 06:47:15 2019\tEpoch 61:\t[2400/5000]\tcontent: 70937.086341\tstyle: 67647.199414\ttotal: 138584.285755\n",
            "Sun Jun 23 06:47:45 2019\tEpoch 61:\t[2800/5000]\tcontent: 71077.562924\tstyle: 67741.302500\ttotal: 138818.865424\n",
            "Sun Jun 23 06:48:15 2019\tEpoch 61:\t[3200/5000]\tcontent: 70823.861074\tstyle: 67660.078818\ttotal: 138483.939893\n",
            "Sun Jun 23 06:48:44 2019\tEpoch 61:\t[3600/5000]\tcontent: 70685.611085\tstyle: 67595.485885\ttotal: 138281.096970\n",
            "Sun Jun 23 06:49:14 2019\tEpoch 61:\t[4000/5000]\tcontent: 70857.534070\tstyle: 67692.814391\ttotal: 138550.348461\n",
            "60 th checkpoint is saved!\n",
            "Sun Jun 23 06:49:44 2019\tEpoch 61:\t[4400/5000]\tcontent: 70850.384893\tstyle: 67761.690483\ttotal: 138612.075376\n",
            "Sun Jun 23 06:50:13 2019\tEpoch 61:\t[4800/5000]\tcontent: 70725.369486\tstyle: 67634.745638\ttotal: 138360.115124\n",
            "Sun Jun 23 06:50:58 2019\tEpoch 62:\t[400/5000]\tcontent: 68998.616953\tstyle: 66132.760781\ttotal: 135131.377734\n",
            "Sun Jun 23 06:51:27 2019\tEpoch 62:\t[800/5000]\tcontent: 70243.680898\tstyle: 67356.535937\ttotal: 137600.216836\n",
            "Sun Jun 23 06:51:57 2019\tEpoch 62:\t[1200/5000]\tcontent: 70165.525938\tstyle: 67573.053802\ttotal: 137738.579740\n",
            "Sun Jun 23 06:52:27 2019\tEpoch 62:\t[1600/5000]\tcontent: 70864.668984\tstyle: 67845.074629\ttotal: 138709.743613\n",
            "Sun Jun 23 06:52:56 2019\tEpoch 62:\t[2000/5000]\tcontent: 70625.505266\tstyle: 67631.324781\ttotal: 138256.830047\n",
            "Sun Jun 23 06:53:26 2019\tEpoch 62:\t[2400/5000]\tcontent: 70850.739805\tstyle: 67666.921680\ttotal: 138517.661484\n",
            "Sun Jun 23 06:53:56 2019\tEpoch 62:\t[2800/5000]\tcontent: 71062.178415\tstyle: 67744.452232\ttotal: 138806.630647\n",
            "Sun Jun 23 06:54:25 2019\tEpoch 62:\t[3200/5000]\tcontent: 70749.226182\tstyle: 67685.688125\ttotal: 138434.914307\n",
            "Sun Jun 23 06:54:55 2019\tEpoch 62:\t[3600/5000]\tcontent: 70593.387595\tstyle: 67610.069844\ttotal: 138203.457439\n",
            "Sun Jun 23 06:55:25 2019\tEpoch 62:\t[4000/5000]\tcontent: 70722.228797\tstyle: 67694.454742\ttotal: 138416.683539\n",
            "61 th checkpoint is saved!\n",
            "Sun Jun 23 06:55:54 2019\tEpoch 62:\t[4400/5000]\tcontent: 70706.847905\tstyle: 67772.656911\ttotal: 138479.504815\n",
            "Sun Jun 23 06:56:24 2019\tEpoch 62:\t[4800/5000]\tcontent: 70595.800579\tstyle: 67643.029564\ttotal: 138238.830143\n",
            "Sun Jun 23 06:57:08 2019\tEpoch 63:\t[400/5000]\tcontent: 68842.954922\tstyle: 66123.607188\ttotal: 134966.562109\n",
            "Sun Jun 23 06:57:38 2019\tEpoch 63:\t[800/5000]\tcontent: 69983.604961\tstyle: 67374.963477\ttotal: 137358.568438\n",
            "Sun Jun 23 06:58:08 2019\tEpoch 63:\t[1200/5000]\tcontent: 69955.084583\tstyle: 67605.619766\ttotal: 137560.704349\n",
            "Sun Jun 23 06:58:37 2019\tEpoch 63:\t[1600/5000]\tcontent: 70688.230645\tstyle: 67823.185938\ttotal: 138511.416582\n",
            "Sun Jun 23 06:59:07 2019\tEpoch 63:\t[2000/5000]\tcontent: 70421.672453\tstyle: 67624.840625\ttotal: 138046.513078\n",
            "Sun Jun 23 06:59:37 2019\tEpoch 63:\t[2400/5000]\tcontent: 70650.365937\tstyle: 67672.189271\ttotal: 138322.555208\n",
            "Sun Jun 23 07:00:06 2019\tEpoch 63:\t[2800/5000]\tcontent: 70820.720703\tstyle: 67759.850458\ttotal: 138580.571161\n",
            "Sun Jun 23 07:00:36 2019\tEpoch 63:\t[3200/5000]\tcontent: 70515.271641\tstyle: 67685.532520\ttotal: 138200.804160\n",
            "Sun Jun 23 07:01:06 2019\tEpoch 63:\t[3600/5000]\tcontent: 70369.383220\tstyle: 67618.557431\ttotal: 137987.940651\n",
            "Sun Jun 23 07:01:35 2019\tEpoch 63:\t[4000/5000]\tcontent: 70499.076188\tstyle: 67712.942086\ttotal: 138212.018273\n",
            "62 th checkpoint is saved!\n",
            "Sun Jun 23 07:02:05 2019\tEpoch 63:\t[4400/5000]\tcontent: 70503.986179\tstyle: 67776.002301\ttotal: 138279.988480\n",
            "Sun Jun 23 07:02:35 2019\tEpoch 63:\t[4800/5000]\tcontent: 70398.748932\tstyle: 67657.014759\ttotal: 138055.763691\n",
            "Sun Jun 23 07:03:19 2019\tEpoch 64:\t[400/5000]\tcontent: 68718.193203\tstyle: 66080.777500\ttotal: 134798.970703\n",
            "Sun Jun 23 07:03:49 2019\tEpoch 64:\t[800/5000]\tcontent: 69733.934258\tstyle: 67447.381953\ttotal: 137181.316211\n",
            "Sun Jun 23 07:04:18 2019\tEpoch 64:\t[1200/5000]\tcontent: 69674.474687\tstyle: 67617.007083\ttotal: 137291.481771\n",
            "Sun Jun 23 07:04:48 2019\tEpoch 64:\t[1600/5000]\tcontent: 70455.059473\tstyle: 67834.199883\ttotal: 138289.259355\n",
            "Sun Jun 23 07:05:17 2019\tEpoch 64:\t[2000/5000]\tcontent: 70321.847172\tstyle: 67625.921000\ttotal: 137947.768172\n",
            "Sun Jun 23 07:05:47 2019\tEpoch 64:\t[2400/5000]\tcontent: 70540.308177\tstyle: 67670.637227\ttotal: 138210.945404\n",
            "Sun Jun 23 07:06:17 2019\tEpoch 64:\t[2800/5000]\tcontent: 70657.973437\tstyle: 67769.365904\ttotal: 138427.339342\n",
            "Sun Jun 23 07:06:46 2019\tEpoch 64:\t[3200/5000]\tcontent: 70343.358564\tstyle: 67697.536611\ttotal: 138040.895176\n",
            "Sun Jun 23 07:07:16 2019\tEpoch 64:\t[3600/5000]\tcontent: 70185.191102\tstyle: 67637.110608\ttotal: 137822.301710\n",
            "Sun Jun 23 07:07:45 2019\tEpoch 64:\t[4000/5000]\tcontent: 70341.434117\tstyle: 67712.447930\ttotal: 138053.882047\n",
            "63 th checkpoint is saved!\n",
            "Sun Jun 23 07:08:15 2019\tEpoch 64:\t[4400/5000]\tcontent: 70319.112436\tstyle: 67782.288004\ttotal: 138101.400440\n",
            "Sun Jun 23 07:08:45 2019\tEpoch 64:\t[4800/5000]\tcontent: 70201.293828\tstyle: 67664.919225\ttotal: 137866.213053\n"
          ],
          "name": "stdout"
        }
      ]
    },
    {
      "cell_type": "code",
      "metadata": {
        "id": "hWNkb2p8Soxx",
        "colab_type": "code",
        "outputId": "a584166e-8b82-4173-d779-e632d6ad5f30",
        "colab": {
          "base_uri": "https://localhost:8080/",
          "height": 54
        }
      },
      "source": [
        "\n"
      ],
      "execution_count": 0,
      "outputs": [
        {
          "output_type": "execute_result",
          "data": {
            "text/plain": [
              "\" torch.save({\\n     'epoch': epoch,\\n     'state_dict': transformer.state_dict(),\\n     'optimizer_state_dict': optimizer.state_dict(),\\n     'loss': total_loss}\\n     , '/root/styletransfer/data/pretrained/sunlightle8.pth')\\n\\n\\n\""
            ]
          },
          "metadata": {
            "tags": []
          },
          "execution_count": 30
        }
      ]
    },
    {
      "cell_type": "code",
      "metadata": {
        "id": "QX5mDe61ldg1",
        "colab_type": "code",
        "outputId": "b631ce58-71fc-4bc4-bc6c-d289fff6a56e",
        "colab": {
          "base_uri": "https://localhost:8080/",
          "height": 36
        }
      },
      "source": [
        ""
      ],
      "execution_count": 0,
      "outputs": [
        {
          "output_type": "execute_result",
          "data": {
            "text/plain": [
              "'/content/gdrive/My Drive/ImageProject/style_train_weight_box/ckpt_epoch_63_batch_id_500.pth'"
            ]
          },
          "metadata": {
            "tags": []
          },
          "execution_count": 63
        }
      ]
    },
    {
      "cell_type": "code",
      "metadata": {
        "id": "r9MCkis1kD0B",
        "colab_type": "code",
        "outputId": "c31af02b-4092-454e-d0cb-f291a893ae86",
        "colab": {
          "base_uri": "https://localhost:8080/",
          "height": 34
        }
      },
      "source": [
        "ckpt_model_path"
      ],
      "execution_count": 0,
      "outputs": [
        {
          "output_type": "execute_result",
          "data": {
            "text/plain": [
              "'/content/gdrive/My Drive/ImageProject/weight_box/sunlightle9.pth'"
            ]
          },
          "metadata": {
            "tags": []
          },
          "execution_count": 21
        }
      ]
    },
    {
      "cell_type": "markdown",
      "metadata": {
        "id": "BRBM7vfVLyKG",
        "colab_type": "text"
      },
      "source": [
        "# Inference\n"
      ]
    },
    {
      "cell_type": "code",
      "metadata": {
        "id": "5BGTgC2YNLHd",
        "colab_type": "code",
        "colab": {}
      },
      "source": [
        "\n",
        "\n",
        "running_option = \"test\"\n",
        "#running_option = \"training\"\n",
        "\n",
        "\n",
        "transfer_learning = True# inference or training first --> False / Transfer learning --> True\n",
        "\n",
        "\n",
        "\n",
        "   \n",
        "\n",
        "'''\n",
        "candy,  mosaic, rain_princess, udnie, sky, sunset \n",
        "\n",
        "cloudy,desert,neonsign,sunlight,sunset2 \n",
        "\n",
        "\n",
        "\n",
        "'''\n",
        "which_style = \"sky\"\n",
        "#pretrain_path ='/content/gdrive/My Drive/ImageProject/weight_box/'\n",
        "pretrain_path = '/root/styletransfer/data/pretrained/'\n",
        "ckpt_model_path = pretrain_path + which_style + '.pth'\n",
        "ckpt_model_path\n",
        "\n",
        "\n",
        "if transfer_learning:\n",
        "    checkpoint = torch.load(ckpt_model_path, map_location=device)\n",
        "    transformer.load_state_dict(checkpoint['state_dict'])\n",
        "    transformer.to(device)\n",
        "\n"
      ],
      "execution_count": 0,
      "outputs": []
    },
    {
      "cell_type": "code",
      "metadata": {
        "id": "ch6TfxMsTN_F",
        "colab_type": "code",
        "outputId": "11a119b1-434d-4631-a83c-910d2833e39d",
        "colab": {
          "base_uri": "https://localhost:8080/",
          "height": 34
        }
      },
      "source": [
        "import glob\n",
        "test_img=glob.glob(\"/root/styletransfer/data/content_img/*.jpg\")\n",
        "test_img[2]"
      ],
      "execution_count": 0,
      "outputs": [
        {
          "output_type": "execute_result",
          "data": {
            "text/plain": [
              "'/root/styletransfer/data/content_img/bed1.jpg'"
            ]
          },
          "metadata": {
            "tags": []
          },
          "execution_count": 49
        }
      ]
    },
    {
      "cell_type": "code",
      "metadata": {
        "id": "i44hw4EcTeGE",
        "colab_type": "code",
        "outputId": "c301bbe2-5821-4cb3-9e88-4bf8c7c4ea76",
        "colab": {
          "base_uri": "https://localhost:8080/",
          "height": 34
        }
      },
      "source": [
        "cd /root"
      ],
      "execution_count": 0,
      "outputs": [
        {
          "output_type": "stream",
          "text": [
            "/root\n"
          ],
          "name": "stdout"
        }
      ]
    },
    {
      "cell_type": "code",
      "metadata": {
        "id": "uOYmoKE2TgNi",
        "colab_type": "code",
        "colab": {}
      },
      "source": [
        "mkdir result"
      ],
      "execution_count": 0,
      "outputs": []
    },
    {
      "cell_type": "code",
      "metadata": {
        "id": "xzsGPwmUbipT",
        "colab_type": "code",
        "colab": {}
      },
      "source": [
        "import re"
      ],
      "execution_count": 0,
      "outputs": []
    },
    {
      "cell_type": "code",
      "metadata": {
        "id": "tIc73iCgRTsQ",
        "colab_type": "code",
        "outputId": "8778e949-cd3d-4871-d105-b212933815e0",
        "colab": {
          "base_uri": "https://localhost:8080/",
          "height": 52
        }
      },
      "source": [
        "if running_option == \"test\":\n",
        "    content_image = utils.load_image(test_img[1])\n",
        "    print(test_img[1])\n",
        "    content_transform = transforms.Compose([\n",
        "        transforms.ToTensor(),\n",
        "        transforms.Lambda(lambda x: x.mul(255))\n",
        "    ])\n",
        "    content_image = content_transform(content_image)\n",
        "    content_image = content_image.unsqueeze(0).to(device)\n",
        "\n",
        "    with torch.no_grad():\n",
        "        style_model = TransformerNet()\n",
        "        \n",
        "        pre_train = ckpt_model_path\n",
        "        #pre_train = \"/content/gdrive/My Drive/imageProject/style_transformation/dataset/sky.pth\"\n",
        "        print(pre_train)\n",
        "        checkpoint = torch.load(pre_train, map_location=device)\n",
        "        #print(checkpoint)\n",
        "        # remove saved deprecated running_* keys in InstanceNorm from the checkpoint\n",
        "        for k in list(checkpoint.keys()):\n",
        "            if re.search(r'in\\d+\\.running_(mean|var)$', k):\n",
        "                del checkpoint[k]\n",
        "        \n",
        "\n",
        "        \n",
        "        style_model.load_state_dict(checkpoint['state_dict'])\n",
        "        style_model.to(device)\n",
        "        \n",
        "        output = style_model(content_image).cpu()\n",
        "        \n",
        "    utils.save_image(\"/root/result/\"+which_style+\"_result0.jpg\", output[0]) #FIXME\n",
        "    "
      ],
      "execution_count": 0,
      "outputs": [
        {
          "output_type": "stream",
          "text": [
            "/root/styletransfer/data/content_img/bed2.jpg\n",
            "/root/styletransfer/data/pretrained/sky.pth\n"
          ],
          "name": "stdout"
        }
      ]
    },
    {
      "cell_type": "code",
      "metadata": {
        "id": "X2blj-pCWS6Z",
        "colab_type": "code",
        "outputId": "bdefcc30-0d43-4e05-8953-4dea5287184e",
        "colab": {
          "base_uri": "https://localhost:8080/",
          "height": 216
        }
      },
      "source": [
        "result = Image.open(\"/root/result/\"+which_style+'_result0.jpg')\n",
        "input_img = Image.open(\"/root/styletransfer/data/content_img/bed2.jpg\")\n",
        "f, axarr = plt.subplots(1,3,figsize=(10,10))\n",
        "axarr[0].imshow(result)\n",
        "axarr[1].imshow(input_img)\n",
        "axarr[2].imshow(neonsign)\n",
        "                \n",
        "\n",
        "\n",
        "plt.show()"
      ],
      "execution_count": 0,
      "outputs": [
        {
          "output_type": "display_data",
          "data": {
            "image/png": "[encoded data removed]",
            "text/plain": [
              "<Figure size 720x720 with 3 Axes>"
            ]
          },
          "metadata": {
            "tags": []
          }
        }
      ]
    },
    {
      "cell_type": "code",
      "metadata": {
        "id": "qMU46Fub-iG9",
        "colab_type": "code",
        "colab": {}
      },
      "source": [
        ""
      ],
      "execution_count": 0,
      "outputs": []
    }
  ]
}